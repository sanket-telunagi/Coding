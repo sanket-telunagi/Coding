{
 "cells": [
  {
   "cell_type": "code",
   "execution_count": 1,
   "metadata": {},
   "outputs": [],
   "source": [
    "# python"
   ]
  },
  {
   "cell_type": "code",
   "execution_count": 2,
   "metadata": {},
   "outputs": [
    {
     "name": "stdout",
     "output_type": "stream",
     "text": [
      "{1: 3, 2: 2, 3: 1, 4: 2, 5: 1}\n"
     ]
    }
   ],
   "source": [
    "nums  = [1,1,1,2,2,3,4,4,5]\n",
    "\n",
    "# set \n",
    "n1 = set(nums)\n",
    "res = {}\n",
    "for it in n1 :\n",
    "    res[it] = nums.count(it)\n",
    "\n",
    "print(res)"
   ]
  },
  {
   "cell_type": "code",
   "execution_count": 7,
   "metadata": {},
   "outputs": [
    {
     "name": "stdout",
     "output_type": "stream",
     "text": [
      "1 : 3\n",
      "2 : 2\n",
      "3 : 1\n",
      "4 : 2\n",
      "5 : 1\n"
     ]
    }
   ],
   "source": [
    "res = {}  # resultant dictionary \n",
    "\n",
    "for num in nums :\n",
    "    if num in res :\n",
    "        res[num] += 1\n",
    "    else :\n",
    "        res[num] = 1\n",
    "\n",
    "for key, val in res.items() :\n",
    "    print(f\"{key} : {val}\")"
   ]
  }
 ],
 "metadata": {
  "kernelspec": {
   "display_name": "Python 3",
   "language": "python",
   "name": "python3"
  },
  "language_info": {
   "codemirror_mode": {
    "name": "ipython",
    "version": 3
   },
   "file_extension": ".py",
   "mimetype": "text/x-python",
   "name": "python",
   "nbconvert_exporter": "python",
   "pygments_lexer": "ipython3",
   "version": "3.10.0"
  }
 },
 "nbformat": 4,
 "nbformat_minor": 2
}
